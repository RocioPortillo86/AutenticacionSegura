{
  "cells": [
    {
      "cell_type": "code",
      "execution_count": 1,
      "metadata": {
        "colab": {
          "base_uri": "https://localhost:8080/"
        },
        "id": "6ECyMJOTgHRa",
        "outputId": "8aaf8d87-2456-4137-a87a-06864e81eb29"
      },
      "outputs": [
        {
          "data": {
            "text/plain": [
              "False"
            ]
          },
          "execution_count": 1,
          "metadata": {},
          "output_type": "execute_result"
        }
      ],
      "source": [
        "from dotenv import load_dotenv\n",
        "load_dotenv()"
      ]
    },
    {
      "cell_type": "code",
      "execution_count": 2,
      "metadata": {},
      "outputs": [
        {
          "name": "stdout",
          "output_type": "stream",
          "text": [
            "🤖 Modelo listo\n"
          ]
        }
      ],
      "source": [
        "from langchain_openai import ChatOpenAI\n",
        "from langchain_core.prompts import ChatPromptTemplate\n",
        "\n",
        "model = ChatOpenAI(\n",
        "    model=\"gpt-4o-mini\",   # usa un modelo que tengas habilitado\n",
        "    temperature=0\n",
        ")\n",
        "print(\"🤖 Modelo listo\")"
      ]
    },
    {
      "cell_type": "code",
      "execution_count": 3,
      "metadata": {},
      "outputs": [],
      "source": [
        "from langchain_openai import ChatOpenAI\n",
        "from langchain_core.prompts import ChatPromptTemplate\n",
        "import os"
      ]
    },
    {
      "cell_type": "code",
      "execution_count": 4,
      "metadata": {},
      "outputs": [],
      "source": [
        "import os, json\n",
        "from datetime import datetime\n",
        "\n",
        "# === Función para auditar código ===\n",
        "def audit_code(file_path: str):\n",
        "    \"\"\"\n",
        "    Realiza una auditoría de seguridad del archivo indicado\n",
        "    usando el modelo inicializado en LangChain.\n",
        "    \"\"\"\n",
        "    with open(file_path, \"r\", encoding=\"utf-8\", errors=\"ignore\") as f:\n",
        "        code = f.read()\n",
        "\n",
        "    prompt_template = \"\"\"Eres un experto en seguridad OWASP.\n",
        "    Analiza el siguiente código en busca de vulnerabilidades y responde en JSON válido.\n",
        "    El formato debe ser:\n",
        "    {{\n",
        "      \"file\": \"{file_name}\",\n",
        "      \"vulnerabilities\": [\n",
        "        {{\n",
        "          \"title\": \"...\",\n",
        "          \"severity\": \"CRITICAL|HIGH|MEDIUM|LOW\",\n",
        "          \"cwe_id\": \"CWE-###\",\n",
        "          \"description\": \"...\",\n",
        "          \"line_numbers\": [<int>],\n",
        "          \"recommendation\": \"...\"\n",
        "        }}\n",
        "      ]\n",
        "    }}\n",
        "\n",
        "    Código:\n",
        "    ```{code_lang}\n",
        "    {code}\n",
        "    ```\"\"\"\n",
        "\n",
        "    # Crea el prompt\n",
        "    prompt = prompt_template.format(\n",
        "        file_name=os.path.basename(file_path),\n",
        "        code_lang=\"C# (ASP.NET WebForms)\",\n",
        "        code=code[:4000]  # truncar si el archivo es muy largo\n",
        "    )\n",
        "\n",
        "    response = model.invoke(prompt)\n",
        "\n",
        "    # Guarda el resultado en carpeta results\n",
        "    os.makedirs(\"results\", exist_ok=True)\n",
        "    ts = datetime.now().strftime(\"%Y%m%d_%H%M%S\")\n",
        "    out_file = f\"results/{os.path.basename(file_path)}_audit_{ts}.json\"\n",
        "\n",
        "    try:\n",
        "        data = json.loads(response.content)\n",
        "    except Exception:\n",
        "        data = {\"error\": \"Respuesta no es JSON válido\", \"raw\": response.content}\n",
        "\n",
        "    with open(out_file, \"w\", encoding=\"utf-8\") as f:\n",
        "        json.dump(data, f, ensure_ascii=False, indent=2)\n",
        "\n",
        "    print(f\"✅ Auditoría guardada en {out_file}\")\n",
        "    return data\n"
      ]
    },
    {
      "cell_type": "code",
      "execution_count": 5,
      "metadata": {},
      "outputs": [
        {
          "name": "stdout",
          "output_type": "stream",
          "text": [
            "Encontrados 0 archivos para auditar\n"
          ]
        }
      ],
      "source": [
        "import glob\n",
        "\n",
        "# Buscar archivos .cs, .aspx, .asax dentro de /codigos\n",
        "files = []\n",
        "for ext in (\"*.cs\", \"*.aspx\", \"*.asax\", \"*.config\"):\n",
        "    files.extend(glob.glob(os.path.join(\"codigos\", \"**\", ext), recursive=True))\n",
        "\n",
        "print(f\"Encontrados {len(files)} archivos para auditar\")\n",
        "\n",
        "# Auditar todos\n",
        "for f in files:\n",
        "    print(f\"🔍 Auditando: {f}\")\n",
        "    audit_code(f)\n"
      ]
    },
    {
      "cell_type": "code",
      "execution_count": 6,
      "metadata": {},
      "outputs": [
        {
          "name": "stdout",
          "output_type": "stream",
          "text": [
            "📊 Resumen general:\n",
            "CRITICAL : 0\n",
            "HIGH     : 0\n",
            "MEDIUM   : 0\n",
            "LOW      : 0\n",
            "UNKNOWN  : 0\n"
          ]
        }
      ],
      "source": [
        "import json, glob\n",
        "\n",
        "summary = {\"CRITICAL\":0, \"HIGH\":0, \"MEDIUM\":0, \"LOW\":0, \"UNKNOWN\":0}\n",
        "\n",
        "for file in glob.glob(\"results/*_audit_*.json\"):\n",
        "    with open(file, \"r\", encoding=\"utf-8\") as f:\n",
        "        data = json.load(f)\n",
        "        for v in data.get(\"vulnerabilities\", []):\n",
        "            sev = v.get(\"severity\", \"UNKNOWN\").upper()\n",
        "            if sev in summary: summary[sev]+=1\n",
        "            else: summary[\"UNKNOWN\"]+=1\n",
        "\n",
        "print(\"📊 Resumen general:\")\n",
        "for s, n in summary.items():\n",
        "    print(f\"{s:9}: {n}\")\n"
      ]
    }
  ],
  "metadata": {
    "colab": {
      "provenance": []
    },
    "kernelspec": {
      "display_name": "Python 3",
      "name": "python3"
    },
    "language_info": {
      "codemirror_mode": {
        "name": "ipython",
        "version": 3
      },
      "file_extension": ".py",
      "mimetype": "text/x-python",
      "name": "python",
      "nbconvert_exporter": "python",
      "pygments_lexer": "ipython3",
      "version": "3.13.7"
    }
  },
  "nbformat": 4,
  "nbformat_minor": 0
}
