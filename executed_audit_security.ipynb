{
 "cells": [
  {
   "cell_type": "code",
   "execution_count": 1,
   "metadata": {
    "colab": {
     "base_uri": "https://localhost:8080/"
    },
    "execution": {
     "iopub.execute_input": "2025-10-15T18:04:16.445993Z",
     "iopub.status.busy": "2025-10-15T18:04:16.445799Z",
     "iopub.status.idle": "2025-10-15T18:04:16.458337Z",
     "shell.execute_reply": "2025-10-15T18:04:16.457419Z"
    },
    "id": "6ECyMJOTgHRa",
    "outputId": "8aaf8d87-2456-4137-a87a-06864e81eb29"
   },
   "outputs": [
    {
     "data": {
      "text/plain": [
       "False"
      ]
     },
     "execution_count": 1,
     "metadata": {},
     "output_type": "execute_result"
    }
   ],
   "source": [
    "from dotenv import load_dotenv\n",
    "load_dotenv()"
   ]
  },
  {
   "cell_type": "code",
   "execution_count": 2,
   "metadata": {
    "execution": {
     "iopub.execute_input": "2025-10-15T18:04:16.493118Z",
     "iopub.status.busy": "2025-10-15T18:04:16.492907Z",
     "iopub.status.idle": "2025-10-15T18:04:17.775983Z",
     "shell.execute_reply": "2025-10-15T18:04:17.775044Z"
    }
   },
   "outputs": [
    {
     "name": "stdout",
     "output_type": "stream",
     "text": [
      "🤖 Modelo listo\n"
     ]
    }
   ],
   "source": [
    "from langchain_openai import ChatOpenAI\n",
    "from langchain_core.prompts import ChatPromptTemplate\n",
    "\n",
    "model = ChatOpenAI(\n",
    "    model=\"gpt-4o-mini\",   # usa un modelo que tengas habilitado\n",
    "    temperature=0\n",
    ")\n",
    "print(\"🤖 Modelo listo\")"
   ]
  },
  {
   "cell_type": "code",
   "execution_count": 3,
   "metadata": {
    "execution": {
     "iopub.execute_input": "2025-10-15T18:04:17.778445Z",
     "iopub.status.busy": "2025-10-15T18:04:17.778170Z",
     "iopub.status.idle": "2025-10-15T18:04:17.781610Z",
     "shell.execute_reply": "2025-10-15T18:04:17.780688Z"
    }
   },
   "outputs": [],
   "source": [
    "from langchain_openai import ChatOpenAI\n",
    "from langchain_core.prompts import ChatPromptTemplate\n",
    "import os"
   ]
  },
  {
   "cell_type": "code",
   "execution_count": 4,
   "metadata": {
    "execution": {
     "iopub.execute_input": "2025-10-15T18:04:17.783991Z",
     "iopub.status.busy": "2025-10-15T18:04:17.783676Z",
     "iopub.status.idle": "2025-10-15T18:04:17.790726Z",
     "shell.execute_reply": "2025-10-15T18:04:17.789746Z"
    }
   },
   "outputs": [],
   "source": [
    "import os, json\n",
    "from datetime import datetime\n",
    "\n",
    "# === Función para auditar código ===\n",
    "def audit_code(file_path: str):\n",
    "    \"\"\"\n",
    "    Realiza una auditoría de seguridad del archivo indicado\n",
    "    usando el modelo inicializado en LangChain.\n",
    "    \"\"\"\n",
    "    with open(file_path, \"r\", encoding=\"utf-8\", errors=\"ignore\") as f:\n",
    "        code = f.read()\n",
    "\n",
    "    prompt_template = \"\"\"Eres un experto en seguridad OWASP.\n",
    "    Analiza el siguiente código en busca de vulnerabilidades y responde en JSON válido.\n",
    "    El formato debe ser:\n",
    "    {{\n",
    "      \"file\": \"{file_name}\",\n",
    "      \"vulnerabilities\": [\n",
    "        {{\n",
    "          \"title\": \"...\",\n",
    "          \"severity\": \"CRITICAL|HIGH|MEDIUM|LOW\",\n",
    "          \"cwe_id\": \"CWE-###\",\n",
    "          \"description\": \"...\",\n",
    "          \"line_numbers\": [<int>],\n",
    "          \"recommendation\": \"...\"\n",
    "        }}\n",
    "      ]\n",
    "    }}\n",
    "\n",
    "    Código:\n",
    "    ```{code_lang}\n",
    "    {code}\n",
    "    ```\"\"\"\n",
    "\n",
    "    # Crea el prompt\n",
    "    prompt = prompt_template.format(\n",
    "        file_name=os.path.basename(file_path),\n",
    "        code_lang=\"C# (ASP.NET WebForms)\",\n",
    "        code=code[:4000]  # truncar si el archivo es muy largo\n",
    "    )\n",
    "\n",
    "    response = model.invoke(prompt)\n",
    "\n",
    "    # Guarda el resultado en carpeta results\n",
    "    os.makedirs(\"results\", exist_ok=True)\n",
    "    ts = datetime.now().strftime(\"%Y%m%d_%H%M%S\")\n",
    "    out_file = f\"results/{os.path.basename(file_path)}_audit_{ts}.json\"\n",
    "\n",
    "    try:\n",
    "        data = json.loads(response.content)\n",
    "    except Exception:\n",
    "        data = {\"error\": \"Respuesta no es JSON válido\", \"raw\": response.content}\n",
    "\n",
    "    with open(out_file, \"w\", encoding=\"utf-8\") as f:\n",
    "        json.dump(data, f, ensure_ascii=False, indent=2)\n",
    "\n",
    "    print(f\"✅ Auditoría guardada en {out_file}\")\n",
    "    return data\n"
   ]
  },
  {
   "cell_type": "code",
   "execution_count": 5,
   "metadata": {
    "execution": {
     "iopub.execute_input": "2025-10-15T18:04:17.793319Z",
     "iopub.status.busy": "2025-10-15T18:04:17.793116Z",
     "iopub.status.idle": "2025-10-15T18:06:27.576797Z",
     "shell.execute_reply": "2025-10-15T18:06:27.575868Z"
    }
   },
   "outputs": [
    {
     "name": "stdout",
     "output_type": "stream",
     "text": [
      "Encontrados 13 archivos para auditar\n",
      "🔍 Auditando: codigos/Default.aspx.designer.cs\n"
     ]
    },
    {
     "name": "stdout",
     "output_type": "stream",
     "text": [
      "✅ Auditoría guardada en results/Default.aspx.designer.cs_audit_20251015_180422.json\n",
      "🔍 Auditando: codigos/User.cs\n"
     ]
    },
    {
     "name": "stdout",
     "output_type": "stream",
     "text": [
      "✅ Auditoría guardada en results/User.cs_audit_20251015_180428.json\n",
      "🔍 Auditando: codigos/JwtHelpers.cs\n"
     ]
    },
    {
     "name": "stdout",
     "output_type": "stream",
     "text": [
      "✅ Auditoría guardada en results/JwtHelpers.cs_audit_20251015_180439.json\n",
      "🔍 Auditando: codigos/Default.aspx.cs\n"
     ]
    },
    {
     "name": "stdout",
     "output_type": "stream",
     "text": [
      "✅ Auditoría guardada en results/Default.aspx.cs_audit_20251015_180448.json\n",
      "🔍 Auditando: codigos/Global.asax.cs\n"
     ]
    },
    {
     "name": "stdout",
     "output_type": "stream",
     "text": [
      "✅ Auditoría guardada en results/Global.asax.cs_audit_20251015_180514.json\n",
      "🔍 Auditando: codigos/Login.aspx.designer.cs\n"
     ]
    },
    {
     "name": "stdout",
     "output_type": "stream",
     "text": [
      "✅ Auditoría guardada en results/Login.aspx.designer.cs_audit_20251015_180521.json\n",
      "🔍 Auditando: codigos/Login.aspx.cs\n"
     ]
    },
    {
     "name": "stdout",
     "output_type": "stream",
     "text": [
      "✅ Auditoría guardada en results/Login.aspx.cs_audit_20251015_180535.json\n",
      "🔍 Auditando: codigos/UserData.cs\n"
     ]
    },
    {
     "name": "stdout",
     "output_type": "stream",
     "text": [
      "✅ Auditoría guardada en results/UserData.cs_audit_20251015_180543.json\n",
      "🔍 Auditando: codigos/AuthServices.cs\n"
     ]
    },
    {
     "name": "stdout",
     "output_type": "stream",
     "text": [
      "✅ Auditoría guardada en results/AuthServices.cs_audit_20251015_180556.json\n",
      "🔍 Auditando: codigos/Default.aspx\n"
     ]
    },
    {
     "name": "stdout",
     "output_type": "stream",
     "text": [
      "✅ Auditoría guardada en results/Default.aspx_audit_20251015_180603.json\n",
      "🔍 Auditando: codigos/Login.aspx\n"
     ]
    },
    {
     "name": "stdout",
     "output_type": "stream",
     "text": [
      "✅ Auditoría guardada en results/Login.aspx_audit_20251015_180614.json\n",
      "🔍 Auditando: codigos/Global.asax\n"
     ]
    },
    {
     "name": "stdout",
     "output_type": "stream",
     "text": [
      "✅ Auditoría guardada en results/Global.asax_audit_20251015_180615.json\n",
      "🔍 Auditando: codigos/Web.config\n"
     ]
    },
    {
     "name": "stdout",
     "output_type": "stream",
     "text": [
      "✅ Auditoría guardada en results/Web.config_audit_20251015_180627.json\n"
     ]
    }
   ],
   "source": [
    "import glob\n",
    "\n",
    "# Buscar archivos .cs, .aspx, .asax dentro de /codigos\n",
    "files = []\n",
    "for ext in (\"*.cs\", \"*.aspx\", \"*.asax\", \"*.config\"):\n",
    "    files.extend(glob.glob(os.path.join(\"codigos\", \"**\", ext), recursive=True))\n",
    "\n",
    "print(f\"Encontrados {len(files)} archivos para auditar\")\n",
    "\n",
    "# Auditar todos\n",
    "for f in files:\n",
    "    print(f\"🔍 Auditando: {f}\")\n",
    "    audit_code(f)\n"
   ]
  },
  {
   "cell_type": "code",
   "execution_count": 6,
   "metadata": {
    "execution": {
     "iopub.execute_input": "2025-10-15T18:06:27.578957Z",
     "iopub.status.busy": "2025-10-15T18:06:27.578772Z",
     "iopub.status.idle": "2025-10-15T18:06:27.585184Z",
     "shell.execute_reply": "2025-10-15T18:06:27.584383Z"
    }
   },
   "outputs": [
    {
     "name": "stdout",
     "output_type": "stream",
     "text": [
      "📊 Resumen general:\n",
      "CRITICAL : 0\n",
      "HIGH     : 0\n",
      "MEDIUM   : 0\n",
      "LOW      : 0\n",
      "UNKNOWN  : 0\n"
     ]
    }
   ],
   "source": [
    "import json, glob\n",
    "\n",
    "summary = {\"CRITICAL\":0, \"HIGH\":0, \"MEDIUM\":0, \"LOW\":0, \"UNKNOWN\":0}\n",
    "\n",
    "for file in glob.glob(\"results/*_audit_*.json\"):\n",
    "    with open(file, \"r\", encoding=\"utf-8\") as f:\n",
    "        data = json.load(f)\n",
    "        for v in data.get(\"vulnerabilities\", []):\n",
    "            sev = v.get(\"severity\", \"UNKNOWN\").upper()\n",
    "            if sev in summary: summary[sev]+=1\n",
    "            else: summary[\"UNKNOWN\"]+=1\n",
    "\n",
    "print(\"📊 Resumen general:\")\n",
    "for s, n in summary.items():\n",
    "    print(f\"{s:9}: {n}\")\n"
   ]
  }
 ],
 "metadata": {
  "colab": {
   "provenance": []
  },
  "kernelspec": {
   "display_name": "Python 3",
   "name": "python3"
  },
  "language_info": {
   "codemirror_mode": {
    "name": "ipython",
    "version": 3
   },
   "file_extension": ".py",
   "mimetype": "text/x-python",
   "name": "python",
   "nbconvert_exporter": "python",
   "pygments_lexer": "ipython3",
   "version": "3.10.18"
  }
 },
 "nbformat": 4,
 "nbformat_minor": 0
}
