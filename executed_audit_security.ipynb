{
 "cells": [
  {
   "cell_type": "code",
   "execution_count": 1,
   "metadata": {
    "colab": {
     "base_uri": "https://localhost:8080/"
    },
    "execution": {
     "iopub.execute_input": "2025-10-16T00:05:39.894122Z",
     "iopub.status.busy": "2025-10-16T00:05:39.893917Z",
     "iopub.status.idle": "2025-10-16T00:05:39.907170Z",
     "shell.execute_reply": "2025-10-16T00:05:39.906194Z"
    },
    "id": "6ECyMJOTgHRa",
    "outputId": "8aaf8d87-2456-4137-a87a-06864e81eb29"
   },
   "outputs": [
    {
     "data": {
      "text/plain": [
       "False"
      ]
     },
     "execution_count": 1,
     "metadata": {},
     "output_type": "execute_result"
    }
   ],
   "source": [
    "from dotenv import load_dotenv\n",
    "load_dotenv()"
   ]
  },
  {
   "cell_type": "code",
   "execution_count": 2,
   "metadata": {
    "execution": {
     "iopub.execute_input": "2025-10-16T00:05:39.943820Z",
     "iopub.status.busy": "2025-10-16T00:05:39.943569Z",
     "iopub.status.idle": "2025-10-16T00:05:41.278015Z",
     "shell.execute_reply": "2025-10-16T00:05:41.276811Z"
    }
   },
   "outputs": [
    {
     "name": "stdout",
     "output_type": "stream",
     "text": [
      "🤖 Modelo listo\n"
     ]
    }
   ],
   "source": [
    "from langchain_openai import ChatOpenAI\n",
    "from langchain_core.prompts import ChatPromptTemplate\n",
    "\n",
    "model = ChatOpenAI(\n",
    "    model=\"gpt-4o-mini\",   # usa un modelo que tengas habilitado\n",
    "    temperature=0\n",
    ")\n",
    "print(\"🤖 Modelo listo\")"
   ]
  },
  {
   "cell_type": "code",
   "execution_count": 3,
   "metadata": {
    "execution": {
     "iopub.execute_input": "2025-10-16T00:05:41.280207Z",
     "iopub.status.busy": "2025-10-16T00:05:41.279897Z",
     "iopub.status.idle": "2025-10-16T00:05:41.283218Z",
     "shell.execute_reply": "2025-10-16T00:05:41.282295Z"
    }
   },
   "outputs": [],
   "source": [
    "from langchain_openai import ChatOpenAI\n",
    "from langchain_core.prompts import ChatPromptTemplate\n",
    "import os"
   ]
  },
  {
   "cell_type": "code",
   "execution_count": 4,
   "metadata": {
    "execution": {
     "iopub.execute_input": "2025-10-16T00:05:41.285576Z",
     "iopub.status.busy": "2025-10-16T00:05:41.285310Z",
     "iopub.status.idle": "2025-10-16T00:05:41.292232Z",
     "shell.execute_reply": "2025-10-16T00:05:41.291260Z"
    }
   },
   "outputs": [],
   "source": [
    "import os, json\n",
    "from datetime import datetime\n",
    "\n",
    "# === Función para auditar código ===\n",
    "def audit_code(file_path: str):\n",
    "    \"\"\"\n",
    "    Realiza una auditoría de seguridad del archivo indicado\n",
    "    usando el modelo inicializado en LangChain.\n",
    "    \"\"\"\n",
    "    with open(file_path, \"r\", encoding=\"utf-8\", errors=\"ignore\") as f:\n",
    "        code = f.read()\n",
    "\n",
    "    prompt_template = \"\"\"Eres un experto en seguridad OWASP.\n",
    "    Analiza el siguiente código en busca de vulnerabilidades y responde en JSON válido.\n",
    "    El formato debe ser:\n",
    "    {{\n",
    "      \"file\": \"{file_name}\",\n",
    "      \"vulnerabilities\": [\n",
    "        {{\n",
    "          \"title\": \"...\",\n",
    "          \"severity\": \"CRITICAL|HIGH|MEDIUM|LOW\",\n",
    "          \"cwe_id\": \"CWE-###\",\n",
    "          \"description\": \"...\",\n",
    "          \"line_numbers\": [<int>],\n",
    "          \"recommendation\": \"...\"\n",
    "        }}\n",
    "      ]\n",
    "    }}\n",
    "\n",
    "    Código:\n",
    "    ```{code_lang}\n",
    "    {code}\n",
    "    ```\"\"\"\n",
    "\n",
    "    # Crea el prompt\n",
    "    prompt = prompt_template.format(\n",
    "        file_name=os.path.basename(file_path),\n",
    "        code_lang=\"C# (ASP.NET WebForms)\",\n",
    "        code=code[:4000]  # truncar si el archivo es muy largo\n",
    "    )\n",
    "\n",
    "    response = model.invoke(prompt)\n",
    "\n",
    "    # Guarda el resultado en carpeta results\n",
    "    os.makedirs(\"results\", exist_ok=True)\n",
    "    ts = datetime.now().strftime(\"%Y%m%d_%H%M%S\")\n",
    "    out_file = f\"results/{os.path.basename(file_path)}_audit_{ts}.json\"\n",
    "\n",
    "    try:\n",
    "        data = json.loads(response.content)\n",
    "    except Exception:\n",
    "        data = {\"error\": \"Respuesta no es JSON válido\", \"raw\": response.content}\n",
    "\n",
    "    with open(out_file, \"w\", encoding=\"utf-8\") as f:\n",
    "        json.dump(data, f, ensure_ascii=False, indent=2)\n",
    "\n",
    "    print(f\"✅ Auditoría guardada en {out_file}\")\n",
    "    return data\n"
   ]
  },
  {
   "cell_type": "code",
   "execution_count": 5,
   "metadata": {
    "execution": {
     "iopub.execute_input": "2025-10-16T00:05:41.294356Z",
     "iopub.status.busy": "2025-10-16T00:05:41.294161Z",
     "iopub.status.idle": "2025-10-16T00:06:54.693554Z",
     "shell.execute_reply": "2025-10-16T00:06:54.692550Z"
    }
   },
   "outputs": [
    {
     "name": "stdout",
     "output_type": "stream",
     "text": [
      "Encontrados 13 archivos para auditar\n",
      "🔍 Auditando: codigos/Default.aspx.designer.cs\n"
     ]
    },
    {
     "name": "stdout",
     "output_type": "stream",
     "text": [
      "✅ Auditoría guardada en results/Default.aspx.designer.cs_audit_20251016_000545.json\n",
      "🔍 Auditando: codigos/User.cs\n"
     ]
    },
    {
     "name": "stdout",
     "output_type": "stream",
     "text": [
      "✅ Auditoría guardada en results/User.cs_audit_20251016_000549.json\n",
      "🔍 Auditando: codigos/JwtHelpers.cs\n"
     ]
    },
    {
     "name": "stdout",
     "output_type": "stream",
     "text": [
      "✅ Auditoría guardada en results/JwtHelpers.cs_audit_20251016_000556.json\n",
      "🔍 Auditando: codigos/Default.aspx.cs\n"
     ]
    },
    {
     "name": "stdout",
     "output_type": "stream",
     "text": [
      "✅ Auditoría guardada en results/Default.aspx.cs_audit_20251016_000601.json\n",
      "🔍 Auditando: codigos/Global.asax.cs\n"
     ]
    },
    {
     "name": "stdout",
     "output_type": "stream",
     "text": [
      "✅ Auditoría guardada en results/Global.asax.cs_audit_20251016_000606.json\n",
      "🔍 Auditando: codigos/Login.aspx.designer.cs\n"
     ]
    },
    {
     "name": "stdout",
     "output_type": "stream",
     "text": [
      "✅ Auditoría guardada en results/Login.aspx.designer.cs_audit_20251016_000611.json\n",
      "🔍 Auditando: codigos/Login.aspx.cs\n"
     ]
    },
    {
     "name": "stdout",
     "output_type": "stream",
     "text": [
      "✅ Auditoría guardada en results/Login.aspx.cs_audit_20251016_000618.json\n",
      "🔍 Auditando: codigos/UserData.cs\n"
     ]
    },
    {
     "name": "stdout",
     "output_type": "stream",
     "text": [
      "✅ Auditoría guardada en results/UserData.cs_audit_20251016_000624.json\n",
      "🔍 Auditando: codigos/AuthServices.cs\n"
     ]
    },
    {
     "name": "stdout",
     "output_type": "stream",
     "text": [
      "✅ Auditoría guardada en results/AuthServices.cs_audit_20251016_000632.json\n",
      "🔍 Auditando: codigos/Default.aspx\n"
     ]
    },
    {
     "name": "stdout",
     "output_type": "stream",
     "text": [
      "✅ Auditoría guardada en results/Default.aspx_audit_20251016_000635.json\n",
      "🔍 Auditando: codigos/Login.aspx\n"
     ]
    },
    {
     "name": "stdout",
     "output_type": "stream",
     "text": [
      "✅ Auditoría guardada en results/Login.aspx_audit_20251016_000644.json\n",
      "🔍 Auditando: codigos/Global.asax\n"
     ]
    },
    {
     "name": "stdout",
     "output_type": "stream",
     "text": [
      "✅ Auditoría guardada en results/Global.asax_audit_20251016_000646.json\n",
      "🔍 Auditando: codigos/Web.config\n"
     ]
    },
    {
     "name": "stdout",
     "output_type": "stream",
     "text": [
      "✅ Auditoría guardada en results/Web.config_audit_20251016_000654.json\n"
     ]
    }
   ],
   "source": [
    "import glob\n",
    "\n",
    "# Buscar archivos .cs, .aspx, .asax dentro de /codigos\n",
    "files = []\n",
    "for ext in (\"*.cs\", \"*.aspx\", \"*.asax\", \"*.config\"):\n",
    "    files.extend(glob.glob(os.path.join(\"codigos\", \"**\", ext), recursive=True))\n",
    "\n",
    "print(f\"Encontrados {len(files)} archivos para auditar\")\n",
    "\n",
    "# Auditar todos\n",
    "for f in files:\n",
    "    print(f\"🔍 Auditando: {f}\")\n",
    "    audit_code(f)\n"
   ]
  },
  {
   "cell_type": "code",
   "execution_count": 6,
   "metadata": {
    "execution": {
     "iopub.execute_input": "2025-10-16T00:06:54.695684Z",
     "iopub.status.busy": "2025-10-16T00:06:54.695497Z",
     "iopub.status.idle": "2025-10-16T00:06:54.703851Z",
     "shell.execute_reply": "2025-10-16T00:06:54.703135Z"
    }
   },
   "outputs": [
    {
     "name": "stdout",
     "output_type": "stream",
     "text": [
      "📊 Resumen general:\n",
      "CRITICAL : 0\n",
      "HIGH     : 0\n",
      "MEDIUM   : 0\n",
      "LOW      : 0\n",
      "UNKNOWN  : 0\n"
     ]
    }
   ],
   "source": [
    "import json, glob\n",
    "\n",
    "summary = {\"CRITICAL\":0, \"HIGH\":0, \"MEDIUM\":0, \"LOW\":0, \"UNKNOWN\":0}\n",
    "\n",
    "for file in glob.glob(\"results/*_audit_*.json\"):\n",
    "    with open(file, \"r\", encoding=\"utf-8\") as f:\n",
    "        data = json.load(f)\n",
    "        for v in data.get(\"vulnerabilities\", []):\n",
    "            sev = v.get(\"severity\", \"UNKNOWN\").upper()\n",
    "            if sev in summary: summary[sev]+=1\n",
    "            else: summary[\"UNKNOWN\"]+=1\n",
    "\n",
    "print(\"📊 Resumen general:\")\n",
    "for s, n in summary.items():\n",
    "    print(f\"{s:9}: {n}\")\n"
   ]
  },
  {
   "cell_type": "code",
   "execution_count": 7,
   "metadata": {
    "execution": {
     "iopub.execute_input": "2025-10-16T00:06:54.706437Z",
     "iopub.status.busy": "2025-10-16T00:06:54.706248Z",
     "iopub.status.idle": "2025-10-16T00:06:58.927784Z",
     "shell.execute_reply": "2025-10-16T00:06:58.926756Z"
    }
   },
   "outputs": [
    {
     "name": "stdout",
     "output_type": "stream",
     "text": [
      "▶ Auditando: /home/runner/work/AutenticacionSegura/AutenticacionSegura/codigos -> /home/runner/work/AutenticacionSegura/AutenticacionSegura/results (codigos)\n"
     ]
    },
    {
     "ename": "RuntimeError",
     "evalue": "No se encontró la función 'audit_file_with_ai'. Define arriba tu función que audite un archivo y devuelva un dict.",
     "output_type": "error",
     "traceback": [
      "\u001b[0;31m---------------------------------------------------------------------------\u001b[0m",
      "\u001b[0;31mNameError\u001b[0m                                 Traceback (most recent call last)",
      "Cell \u001b[0;32mIn[7], line 42\u001b[0m, in \u001b[0;36mauditar_carpeta\u001b[0;34m(carpeta_codigo, carpeta_resultados, etiqueta)\u001b[0m\n\u001b[1;32m     41\u001b[0m \u001b[38;5;28;01mtry\u001b[39;00m:\n\u001b[0;32m---> 42\u001b[0m     resultado \u001b[38;5;241m=\u001b[39m \u001b[43maudit_file_with_ai\u001b[49m(\u001b[38;5;28mstr\u001b[39m(file_path))  \u001b[38;5;66;03m# <-- usa tu función anterior\u001b[39;00m\n\u001b[1;32m     43\u001b[0m \u001b[38;5;28;01mexcept\u001b[39;00m \u001b[38;5;167;01mNameError\u001b[39;00m:\n",
      "\u001b[0;31mNameError\u001b[0m: name 'audit_file_with_ai' is not defined",
      "\nDuring handling of the above exception, another exception occurred:\n",
      "\u001b[0;31mRuntimeError\u001b[0m                              Traceback (most recent call last)",
      "Cell \u001b[0;32mIn[7], line 111\u001b[0m\n\u001b[1;32m    109\u001b[0m \u001b[38;5;66;03m# === 1) Auditar carpeta principal 'codigos/' ===\u001b[39;00m\n\u001b[1;32m    110\u001b[0m \u001b[38;5;28;01mif\u001b[39;00m CODE_DIR\u001b[38;5;241m.\u001b[39mexists():\n\u001b[0;32m--> 111\u001b[0m     \u001b[43mauditar_carpeta\u001b[49m\u001b[43m(\u001b[49m\u001b[43mCODE_DIR\u001b[49m\u001b[43m,\u001b[49m\u001b[43m \u001b[49m\u001b[43mRESULTS_DIR\u001b[49m\u001b[43m,\u001b[49m\u001b[43m \u001b[49m\u001b[43metiqueta\u001b[49m\u001b[38;5;241;43m=\u001b[39;49m\u001b[38;5;124;43m\"\u001b[39;49m\u001b[38;5;124;43mcodigos\u001b[39;49m\u001b[38;5;124;43m\"\u001b[39;49m\u001b[43m)\u001b[49m\n\u001b[1;32m    113\u001b[0m \u001b[38;5;66;03m# === 2) (Opcional) Auditar dos versiones para comparación ===\u001b[39;00m\n\u001b[1;32m    114\u001b[0m security_results \u001b[38;5;241m=\u001b[39m \u001b[38;5;28;01mNone\u001b[39;00m\n",
      "Cell \u001b[0;32mIn[7], line 44\u001b[0m, in \u001b[0;36mauditar_carpeta\u001b[0;34m(carpeta_codigo, carpeta_resultados, etiqueta)\u001b[0m\n\u001b[1;32m     42\u001b[0m     resultado \u001b[38;5;241m=\u001b[39m audit_file_with_ai(\u001b[38;5;28mstr\u001b[39m(file_path))  \u001b[38;5;66;03m# <-- usa tu función anterior\u001b[39;00m\n\u001b[1;32m     43\u001b[0m \u001b[38;5;28;01mexcept\u001b[39;00m \u001b[38;5;167;01mNameError\u001b[39;00m:\n\u001b[0;32m---> 44\u001b[0m     \u001b[38;5;28;01mraise\u001b[39;00m \u001b[38;5;167;01mRuntimeError\u001b[39;00m(\n\u001b[1;32m     45\u001b[0m         \u001b[38;5;124m\"\u001b[39m\u001b[38;5;124mNo se encontró la función \u001b[39m\u001b[38;5;124m'\u001b[39m\u001b[38;5;124maudit_file_with_ai\u001b[39m\u001b[38;5;124m'\u001b[39m\u001b[38;5;124m. \u001b[39m\u001b[38;5;124m\"\u001b[39m\n\u001b[1;32m     46\u001b[0m         \u001b[38;5;124m\"\u001b[39m\u001b[38;5;124mDefine arriba tu función que audite un archivo y devuelva un dict.\u001b[39m\u001b[38;5;124m\"\u001b[39m\n\u001b[1;32m     47\u001b[0m     )\n\u001b[1;32m     49\u001b[0m \u001b[38;5;66;03m# Guardar cada resultado como JSON individual\u001b[39;00m\n\u001b[1;32m     50\u001b[0m out_name \u001b[38;5;241m=\u001b[39m \u001b[38;5;124mf\u001b[39m\u001b[38;5;124m\"\u001b[39m\u001b[38;5;132;01m{\u001b[39;00metiqueta\u001b[38;5;132;01m}\u001b[39;00m\u001b[38;5;124m_\u001b[39m\u001b[38;5;132;01m{\u001b[39;00mfile_path\u001b[38;5;241m.\u001b[39mstem\u001b[38;5;132;01m}\u001b[39;00m\u001b[38;5;124m_audit_\u001b[39m\u001b[38;5;132;01m{\u001b[39;00mts\u001b[38;5;132;01m}\u001b[39;00m\u001b[38;5;124m.json\u001b[39m\u001b[38;5;124m\"\u001b[39m\n",
      "\u001b[0;31mRuntimeError\u001b[0m: No se encontró la función 'audit_file_with_ai'. Define arriba tu función que audite un archivo y devuelva un dict."
     ]
    }
   ],
   "source": [
    "# === Auditoría de carpeta de código y guardado de resultados ===\n",
    "import os, json\n",
    "from pathlib import Path\n",
    "from datetime import datetime\n",
    "import pandas as pd\n",
    "import matplotlib.pyplot as plt\n",
    "\n",
    "# Rutas del repo\n",
    "REPO_DIR     = Path(\".\").resolve()\n",
    "CODE_DIR     = REPO_DIR / \"codigos\"              # Carpeta principal de código\n",
    "CODE_INSEG   = REPO_DIR / \"codigos_inseguro\"     # (Opcional) versión insegura\n",
    "CODE_SEG     = REPO_DIR / \"codigos_seguro\"       # (Opcional) versión segura\n",
    "RESULTS_DIR  = REPO_DIR / \"results\"              # Carpeta donde se guardan los JSON\n",
    "RESULTS_DIR.mkdir(exist_ok=True)\n",
    "\n",
    "# Extensiones a auditar\n",
    "EXTS = {\".cs\", \".aspx\", \".config\", \".cshtml\", \".vb\", \".xml\"}\n",
    "\n",
    "def archivos_en(carpeta: Path):\n",
    "    if not carpeta.exists():\n",
    "        return []\n",
    "    return [p for p in carpeta.rglob(\"*\") if p.suffix.lower() in EXTS and p.is_file()]\n",
    "\n",
    "def auditar_carpeta(carpeta_codigo: Path, carpeta_resultados: Path, etiqueta: str):\n",
    "    \"\"\"\n",
    "    Recorre la carpeta de código, llama a tu función de auditoría por archivo y\n",
    "    guarda un JSON por cada archivo analizado en 'carpeta_resultados'.\n",
    "    El nombre del archivo resultante incluye la etiqueta y un timestamp.\n",
    "    \"\"\"\n",
    "    print(f\"▶ Auditando: {carpeta_codigo} -> {carpeta_resultados} ({etiqueta})\")\n",
    "    carpeta_resultados.mkdir(exist_ok=True, parents=True)\n",
    "    ts = datetime.now().strftime(\"%Y%m%d_%H%M%S\")\n",
    "\n",
    "    total = 0\n",
    "    for file_path in archivos_en(carpeta_codigo):\n",
    "        total += 1\n",
    "        # === LLAMADA A TU FUNCIÓN YA DEFINIDA ARRIBA ===\n",
    "        # Debe retornar un dict con el análisis o bien guardar internamente el JSON.\n",
    "        # Si tu función ya guarda el JSON, puedes omitir el bloque \"with open(...)\"\n",
    "        # y sólo usar la llamada. Aquí asumimos que retorna un dict 'resultado'.\n",
    "        try:\n",
    "            resultado = audit_file_with_ai(str(file_path))  # <-- usa tu función anterior\n",
    "        except NameError:\n",
    "            raise RuntimeError(\n",
    "                \"No se encontró la función 'audit_file_with_ai'. \"\n",
    "                \"Define arriba tu función que audite un archivo y devuelva un dict.\"\n",
    "            )\n",
    "\n",
    "        # Guardar cada resultado como JSON individual\n",
    "        out_name = f\"{etiqueta}_{file_path.stem}_audit_{ts}.json\"\n",
    "        out_path = carpeta_resultados / out_name\n",
    "        with open(out_path, \"w\", encoding=\"utf-8\") as f:\n",
    "            json.dump(resultado, f, ensure_ascii=False, indent=2)\n",
    "    print(f\"✔ Archivos auditados: {total}\")\n",
    "\n",
    "def normaliza_severidad(s: str) -> str:\n",
    "    if not s: return \"low\"\n",
    "    s = s.strip().lower()\n",
    "    if s.startswith(\"crit\"): return \"critical\"\n",
    "    if s.startswith(\"alt\"):  return \"high\"\n",
    "    if s.startswith(\"med\"):  return \"medium\"\n",
    "    if s.startswith(\"baj\"):  return \"low\"\n",
    "    return s if s in {\"critical\",\"high\",\"medium\",\"low\"} else \"low\"\n",
    "\n",
    "def resume_resultados(carpeta_resultados: Path, filtro_etiqueta: str = None) -> dict:\n",
    "    \"\"\"\n",
    "    Lee todos los JSON en 'carpeta_resultados' (opcionalmente filtrando por etiqueta en el nombre)\n",
    "    y cuenta vulnerabilidades por severidad. Se espera que cada JSON tenga una lista de\n",
    "    vulnerabilidades con campo 'severity' o similar.\n",
    "    \"\"\"\n",
    "    counts = {\"critical\": 0, \"high\": 0, \"medium\": 0, \"low\": 0}\n",
    "    total_json = 0\n",
    "\n",
    "    for p in carpeta_resultados.glob(\"*.json\"):\n",
    "        if filtro_etiqueta and not p.name.startswith(filtro_etiqueta + \"_\"):\n",
    "            continue\n",
    "        total_json += 1\n",
    "        try:\n",
    "            data = json.loads(p.read_text(encoding=\"utf-8\"))\n",
    "        except Exception:\n",
    "            continue\n",
    "\n",
    "        # Adapta a tu estructura: intentamos varias claves comunes\n",
    "        vulns = []\n",
    "        if isinstance(data, dict):\n",
    "            if \"vulnerabilities\" in data and isinstance(data[\"vulnerabilities\"], list):\n",
    "                vulns = data[\"vulnerabilities\"]\n",
    "            elif \"issues\" in data and isinstance(data[\"issues\"], list):\n",
    "                vulns = data[\"issues\"]\n",
    "\n",
    "        for v in vulns:\n",
    "            sev = None\n",
    "            if isinstance(v, dict):\n",
    "                sev = v.get(\"severity\") or v.get(\"level\") or v.get(\"severity_level\")\n",
    "            counts[normaliza_severidad(str(sev))] += 1\n",
    "\n",
    "    total_vulns = sum(counts.values())\n",
    "    # Estructura resumen (compat con tu snippet original)\n",
    "    resumen = {\n",
    "        \"critical\": counts[\"critical\"],\n",
    "        \"high\": counts[\"high\"],\n",
    "        \"medium\": counts[\"medium\"],\n",
    "        \"low\": counts[\"low\"],\n",
    "        \"vulnerabilities\": total_vulns,\n",
    "        \"archivos_analizados\": total_json,\n",
    "    }\n",
    "    return resumen\n",
    "\n",
    "# === 1) Auditar carpeta principal 'codigos/' ===\n",
    "if CODE_DIR.exists():\n",
    "    auditar_carpeta(CODE_DIR, RESULTS_DIR, etiqueta=\"codigos\")\n",
    "\n",
    "# === 2) (Opcional) Auditar dos versiones para comparación ===\n",
    "security_results = None\n",
    "secure_results   = None\n",
    "\n",
    "if CODE_INSEG.exists():\n",
    "    auditar_carpeta(CODE_INSEG, RESULTS_DIR, etiqueta=\"inseguro\")\n",
    "    security_results = resume_resultados(RESULTS_DIR, filtro_etiqueta=\"inseguro\")\n",
    "\n",
    "if CODE_SEG.exists():\n",
    "    auditar_carpeta(CODE_SEG, RESULTS_DIR, etiqueta=\"seguro\")\n",
    "    secure_results = resume_resultados(RESULTS_DIR, filtro_etiqueta=\"seguro\")\n",
    "\n",
    "# Si no hay versiones separadas, hacemos un resumen único de 'codigos/'\n",
    "if security_results is None and secure_results is None:\n",
    "    unico = resume_resultados(RESULTS_DIR, filtro_etiqueta=\"codigos\")\n",
    "    print(\"Resumen (carpeta 'codigos/'):\")\n",
    "    print(unico)\n",
    "\n",
    "# === 3) Construir la comparación (si hay dos versiones) y graficar ===\n",
    "if security_results and secure_results:\n",
    "    comparison_data = pd.DataFrame([\n",
    "        {\n",
    "            'Version': 'Código Inseguro',\n",
    "            'High':   security_results.get('high', 0),\n",
    "            'Medium': security_results.get('medium', 0),\n",
    "            'Low':    security_results.get('low', 0)\n",
    "        },\n",
    "        {\n",
    "            'Version': 'Código Seguro',\n",
    "            'High':   secure_results.get('high', 0),\n",
    "            'Medium': secure_results.get('medium', 0),\n",
    "            'Low':    secure_results.get('low', 0)\n",
    "        }\n",
    "    ])\n",
    "\n",
    "    fig, ax = plt.subplots(figsize=(10, 6))\n",
    "    # Nota: no fijamos colores para mantenerlo genérico\n",
    "    comparison_data.set_index('Version')[['High', 'Medium', 'Low']].plot(kind='bar', ax=ax)\n",
    "    plt.title('Comparación de Vulnerabilidades: Código Inseguro vs Seguro', fontsize=14, fontweight='bold')\n",
    "    plt.xlabel('Versión del Código', fontsize=12)\n",
    "    plt.ylabel('Número de Vulnerabilidades', fontsize=12)\n",
    "    plt.legend(title='Severidad', loc='upper right')\n",
    "    plt.xticks(rotation=0)\n",
    "    plt.tight_layout()\n",
    "    plt.show()\n",
    "\n",
    "    reduccion = security_results.get('vulnerabilities', 0) - secure_results.get('vulnerabilities', 0)\n",
    "    print(\"\\n📊 Conclusión:\")\n",
    "    print(f\"Reducción de vulnerabilidades: {reduccion}\")\n",
    "\n",
    "else:\n",
    "    print(\"\\nℹ No se detectaron ambas versiones ('codigos_inseguro/' y 'codigos_seguro/').\")\n",
    "    print(\"   Se generó/actualizó el resumen único de la carpeta 'codigos/' y los JSON en 'results/'.\")\n"
   ]
  },
  {
   "cell_type": "code",
   "execution_count": 8,
   "metadata": {
    "execution": {
     "iopub.execute_input": "2025-10-16T00:06:58.930601Z",
     "iopub.status.busy": "2025-10-16T00:06:58.930367Z",
     "iopub.status.idle": "2025-10-16T00:06:58.943048Z",
     "shell.execute_reply": "2025-10-16T00:06:58.942010Z"
    }
   },
   "outputs": [
    {
     "name": "stdout",
     "output_type": "stream",
     "text": [
      "⚠️ No se encontraron archivos de resultados (inseguro y seguro).\n"
     ]
    }
   ],
   "source": [
    "# === Comparar resultados de auditoría ===\n",
    "from pathlib import Path\n",
    "from datetime import datetime\n",
    "import pandas as pd\n",
    "import matplotlib.pyplot as plt\n",
    "import json\n",
    "import os\n",
    "\n",
    "# --- Rutas del repositorio ---\n",
    "codigos_path = Path(\"codigos\")\n",
    "results_path = Path(\"results\")\n",
    "results_path.mkdir(exist_ok=True)\n",
    "\n",
    "# --- Cargar resultados JSON de auditorías previas ---\n",
    "# Asegúrate de que existan archivos results del código inseguro y seguro\n",
    "insecure_file = next(results_path.glob(\"*inseguro*.json\"), None)\n",
    "secure_file = next(results_path.glob(\"*seguro*.json\"), None)\n",
    "\n",
    "if not insecure_file or not secure_file:\n",
    "    print(\"⚠️ No se encontraron archivos de resultados (inseguro y seguro).\")\n",
    "else:\n",
    "    with open(insecure_file, \"r\", encoding=\"utf-8\") as f:\n",
    "        insecure_data = json.load(f)\n",
    "    with open(secure_file, \"r\", encoding=\"utf-8\") as f:\n",
    "        secure_data = json.load(f)\n",
    "\n",
    "    # --- Contar vulnerabilidades por nivel ---\n",
    "    def contar_vulnerabilidades(data):\n",
    "        conteo = {\"high\": 0, \"medium\": 0, \"low\": 0, \"total\": 0}\n",
    "        if isinstance(data, dict) and \"vulnerabilities\" in data:\n",
    "            for v in data[\"vulnerabilities\"]:\n",
    "                sev = v.get(\"severity\", \"\").lower()\n",
    "                if sev in conteo:\n",
    "                    conteo[sev] += 1\n",
    "                    conteo[\"total\"] += 1\n",
    "        return conteo\n",
    "\n",
    "    security_results = contar_vulnerabilidades(insecure_data)\n",
    "    secure_results = contar_vulnerabilidades(secure_data)\n",
    "\n",
    "    # --- Preparar datos para comparar ---\n",
    "    comparison_data = pd.DataFrame([\n",
    "        {\n",
    "            'Versión': 'Código Inseguro',\n",
    "            'Críticas': security_results['high'],\n",
    "            'Medias': security_results['medium'],\n",
    "            'Bajas': security_results['low']\n",
    "        },\n",
    "        {\n",
    "            'Versión': 'Código Seguro',\n",
    "            'Críticas': secure_results['high'],\n",
    "            'Medias': secure_results['medium'],\n",
    "            'Bajas': secure_results['low']\n",
    "        }\n",
    "    ])\n",
    "\n",
    "    # --- Crear gráfica ---\n",
    "    fig, ax = plt.subplots(figsize=(10, 6))\n",
    "    comparison_data.set_index('Versión')[['Críticas', 'Medias', 'Bajas']].plot(\n",
    "        kind='bar',\n",
    "        ax=ax,\n",
    "        color=['#e74c3c', '#f39c12', '#f1c40f']\n",
    "    )\n",
    "    plt.title('Comparación de Vulnerabilidades: Código Inseguro vs Seguro', fontsize=14, fontweight='bold')\n",
    "    plt.xlabel('Versión del Código', fontsize=12)\n",
    "    plt.ylabel('Número de Vulnerabilidades', fontsize=12)\n",
    "    plt.legend(title='Severidad', loc='upper right')\n",
    "    plt.xticks(rotation=0)\n",
    "    plt.tight_layout()\n",
    "\n",
    "    # --- Guardar la imagen en /results ---\n",
    "    img_path = results_path / \"comparacion_vulnerabilidades.png\"\n",
    "    plt.savefig(img_path, bbox_inches=\"tight\")\n",
    "    plt.show()\n",
    "\n",
    "    # --- Mostrar conclusión ---\n",
    "    reduccion = security_results[\"total\"] - secure_results[\"total\"]\n",
    "    print(\"\\n📊 Conclusión:\")\n",
    "    if reduccion > 0:\n",
    "        print(f\"Se redujeron {reduccion} vulnerabilidades en el código seguro respecto al inseguro.\")\n",
    "    elif reduccion == 0:\n",
    "        print(\"No hubo diferencia en el número de vulnerabilidades detectadas.\")\n",
    "    else:\n",
    "        print(f\"⚠️ Se detectaron {abs(reduccion)} vulnerabilidades más en el código seguro (revisar configuración).\")\n",
    "\n",
    "    print(f\"📁 Gráfica guardada en: {img_path}\")\n"
   ]
  },
  {
   "cell_type": "code",
   "execution_count": 9,
   "metadata": {
    "execution": {
     "iopub.execute_input": "2025-10-16T00:06:58.945641Z",
     "iopub.status.busy": "2025-10-16T00:06:58.945385Z",
     "iopub.status.idle": "2025-10-16T00:06:59.237597Z",
     "shell.execute_reply": "2025-10-16T00:06:59.236520Z"
    }
   },
   "outputs": [
    {
     "name": "stdout",
     "output_type": "stream",
     "text": [
      "🧩 Comparando:\n",
      " - Web.config_audit_20251016_000654.json\n",
      " - Global.asax_audit_20251016_000646.json\n"
     ]
    },
    {
     "data": {
      "image/png": "[encoded data removed]",
      "text/plain": [
       "<Figure size 1000x600 with 1 Axes>"
      ]
     },
     "metadata": {},
     "output_type": "display_data"
    },
    {
     "name": "stdout",
     "output_type": "stream",
     "text": [
      "\n",
      "📊 Conclusión:\n",
      "No hubo diferencia en el número de vulnerabilidades.\n",
      "📁 Gráfica guardada en: results/comparacion_vulnerabilidades.png\n"
     ]
    }
   ],
   "source": [
    "from pathlib import Path\n",
    "from datetime import datetime\n",
    "import pandas as pd\n",
    "import matplotlib.pyplot as plt\n",
    "import json, os\n",
    "\n",
    "results_path = Path(\"results\")\n",
    "results_path.mkdir(exist_ok=True)\n",
    "\n",
    "# Buscar los dos archivos JSON más recientes\n",
    "json_files = sorted(results_path.glob(\"*.json\"), key=os.path.getmtime, reverse=True)\n",
    "\n",
    "if len(json_files) < 2:\n",
    "    print(\"⚠️ No hay suficientes archivos de resultados (.json) en 'results'. Ejecuta primero la auditoría.\")\n",
    "else:\n",
    "    a_file, b_file = json_files[:2]\n",
    "    print(f\"🧩 Comparando:\\n - {a_file.name}\\n - {b_file.name}\")\n",
    "\n",
    "    with open(a_file, \"r\", encoding=\"utf-8\") as f:\n",
    "        a_data = json.load(f)\n",
    "    with open(b_file, \"r\", encoding=\"utf-8\") as f:\n",
    "        b_data = json.load(f)\n",
    "\n",
    "    def contar_vulnerabilidades(data):\n",
    "        counts = {\"high\":0, \"medium\":0, \"low\":0, \"total\":0}\n",
    "        for v in data.get(\"vulnerabilities\", []):\n",
    "            sev = (v.get(\"severity\") or \"\").lower()\n",
    "            if sev in counts:\n",
    "                counts[sev] += 1\n",
    "                counts[\"total\"] += 1\n",
    "        return counts\n",
    "\n",
    "    a_counts = contar_vulnerabilidades(a_data)\n",
    "    b_counts = contar_vulnerabilidades(b_data)\n",
    "\n",
    "    df = pd.DataFrame([\n",
    "        {\"Versión\": a_file.stem, \"Altas\": a_counts[\"high\"], \"Medias\": a_counts[\"medium\"], \"Bajas\": a_counts[\"low\"]},\n",
    "        {\"Versión\": b_file.stem, \"Altas\": b_counts[\"high\"], \"Medias\": b_counts[\"medium\"], \"Bajas\": b_counts[\"low\"]},\n",
    "    ])\n",
    "\n",
    "    # Graficar\n",
    "    fig, ax = plt.subplots(figsize=(10, 6))\n",
    "    df.set_index(\"Versión\")[[\"Altas\",\"Medias\",\"Bajas\"]].plot(kind=\"bar\", ax=ax)\n",
    "    plt.title(\"Comparación de vulnerabilidades (dos últimos análisis)\", fontsize=14, fontweight=\"bold\")\n",
    "    plt.xlabel(\"Versión / Archivo analizado\", fontsize=12)\n",
    "    plt.ylabel(\"Número de vulnerabilidades\", fontsize=12)\n",
    "    plt.legend(title=\"Severidad\", loc=\"upper right\")\n",
    "    plt.xticks(rotation=15)\n",
    "    plt.tight_layout()\n",
    "\n",
    "    # Guardar PNG en /results\n",
    "    img_path = results_path / \"comparacion_vulnerabilidades.png\"\n",
    "    plt.savefig(img_path, bbox_inches=\"tight\")\n",
    "    plt.show()\n",
    "\n",
    "    reduccion = a_counts[\"total\"] - b_counts[\"total\"]\n",
    "    print(\"\\n📊 Conclusión:\")\n",
    "    if reduccion > 0:\n",
    "        print(f\"Se redujeron {reduccion} vulnerabilidades en el análisis más reciente.\")\n",
    "    elif reduccion == 0:\n",
    "        print(\"No hubo diferencia en el número de vulnerabilidades.\")\n",
    "    else:\n",
    "        print(f\"⚠️ Se detectaron {abs(reduccion)} vulnerabilidades más en el último análisis.\")\n",
    "    print(f\"📁 Gráfica guardada en: {img_path}\")\n"
   ]
  },
  {
   "cell_type": "code",
   "execution_count": 10,
   "metadata": {
    "execution": {
     "iopub.execute_input": "2025-10-16T00:06:59.240195Z",
     "iopub.status.busy": "2025-10-16T00:06:59.239912Z",
     "iopub.status.idle": "2025-10-16T00:06:59.256994Z",
     "shell.execute_reply": "2025-10-16T00:06:59.256076Z"
    }
   },
   "outputs": [
    {
     "name": "stdout",
     "output_type": "stream",
     "text": [
      "🚧 Validando Quality Gate...\n",
      "\n",
      "✅ QUALITY GATE APROBADO\n",
      "📁 Reporte guardado en: results/quality_gate_20251016_000659.json\n"
     ]
    }
   ],
   "source": [
    "import json\n",
    "from pathlib import Path\n",
    "\n",
    "# --- Configuración del Quality Gate ---\n",
    "results_path = Path(\"results\")\n",
    "high_limit = 0       # No se permiten vulnerabilidades críticas\n",
    "medium_limit = 3     # Máximo 3 medias\n",
    "low_limit = 10       # Máximo 10 bajas\n",
    "\n",
    "print(\"🚧 Validando Quality Gate...\\n\")\n",
    "\n",
    "# --- Buscar archivos JSON con resultados ---\n",
    "json_files = sorted(results_path.glob(\"*.json\"))\n",
    "\n",
    "if not json_files:\n",
    "    print(\"⚠️ No se encontraron archivos de resultados en la carpeta 'results/'. Ejecuta primero la auditoría.\")\n",
    "else:\n",
    "    summary = []\n",
    "    for file in json_files:\n",
    "        with open(file, \"r\", encoding=\"utf-8\") as f:\n",
    "            data = json.load(f)\n",
    "\n",
    "        counts = {\"high\": 0, \"medium\": 0, \"low\": 0}\n",
    "        for v in data.get(\"vulnerabilities\", []):\n",
    "            sev = (v.get(\"severity\") or \"\").lower()\n",
    "            if sev in counts:\n",
    "                counts[sev] += 1\n",
    "\n",
    "        summary.append({\n",
    "            \"archivo\": file.name,\n",
    "            \"altas\": counts[\"high\"],\n",
    "            \"medias\": counts[\"medium\"],\n",
    "            \"bajas\": counts[\"low\"]\n",
    "        })\n",
    "\n",
    "    # --- Evaluar Quality Gate ---\n",
    "    passed = True\n",
    "    for item in summary:\n",
    "        if (item[\"altas\"] > high_limit) or (item[\"medias\"] > medium_limit) or (item[\"bajas\"] > low_limit):\n",
    "            passed = False\n",
    "\n",
    "    # --- Guardar reporte ---\n",
    "    qg_report = {\n",
    "        \"fecha\": datetime.now().strftime(\"%Y-%m-%d %H:%M:%S\"),\n",
    "        \"criterios\": {\n",
    "            \"High\": high_limit,\n",
    "            \"Medium\": medium_limit,\n",
    "            \"Low\": low_limit\n",
    "        },\n",
    "        \"resultados\": summary,\n",
    "        \"estado\": \"APROBADO\" if passed else \"FALLÓ\"\n",
    "    }\n",
    "\n",
    "    out_path = results_path / f\"quality_gate_{datetime.now().strftime('%Y%m%d_%H%M%S')}.json\"\n",
    "    with open(out_path, \"w\", encoding=\"utf-8\") as f:\n",
    "        json.dump(qg_report, f, indent=4, ensure_ascii=False)\n",
    "\n",
    "    # --- Mostrar resultado ---\n",
    "    print(\"✅ QUALITY GATE APROBADO\" if passed else \"❌ QUALITY GATE FALLÓ\")\n",
    "    print(f\"📁 Reporte guardado en: {out_path}\")\n"
   ]
  }
 ],
 "metadata": {
  "colab": {
   "provenance": []
  },
  "kernelspec": {
   "display_name": "Python 3",
   "name": "python3"
  },
  "language_info": {
   "codemirror_mode": {
    "name": "ipython",
    "version": 3
   },
   "file_extension": ".py",
   "mimetype": "text/x-python",
   "name": "python",
   "nbconvert_exporter": "python",
   "pygments_lexer": "ipython3",
   "version": "3.10.18"
  }
 },
 "nbformat": 4,
 "nbformat_minor": 0
}
